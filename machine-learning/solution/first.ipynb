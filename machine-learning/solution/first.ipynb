{
 "cells": [
  {
   "cell_type": "markdown",
   "metadata": {
    "collapsed": true,
    "slideshow": {
     "slide_type": "slide"
    }
   },
   "source": [
    "# Hello"
   ]
  },
  {
   "cell_type": "code",
   "execution_count": 2,
   "metadata": {
    "collapsed": true,
    "slideshow": {
     "slide_type": "slide"
    }
   },
   "outputs": [
    {
     "name": "stdout",
     "output_type": "stream",
     "text": [
      "ehlo world\n"
     ]
    }
   ],
   "source": [
    "print('ehlo world')"
   ]
  },
  {
   "cell_type": "markdown",
   "metadata": {
    "slideshow": {
     "slide_type": "slide"
    }
   },
   "source": [
    "* ajskdsajd;lsa\n",
    "* asdksajdksad\n",
    "* asdjksajdksajd"
   ]
  },
  {
   "cell_type": "code",
   "execution_count": 14,
   "metadata": {
    "collapsed": true,
    "slideshow": {
     "slide_type": "slide"
    }
   },
   "outputs": [],
   "source": [
    "import math\n",
    "\n",
    "\n",
    "def euclidean_distance_n_dimensions(A, B):\n",
    "    if len(A) != len(B):\n",
    "        raise ValueError('Punkty muszą być w przestrzeni tylu-samo wymiarowej')\n",
    "\n",
    "    dimensions = len(A)\n",
    "    i = 0\n",
    "    pod_pierwiastkiem = 0\n",
    "\n",
    "    while i < dimensions:\n",
    "        pod_pierwiastkiem += (B[i]-A[i]) ** 2\n",
    "        i += 1\n",
    "\n",
    "    return math.sqrt(pod_pierwiastkiem)\n"
   ]
  },
  {
   "cell_type": "code",
   "execution_count": 8,
   "metadata": {
    "collapsed": true,
    "slideshow": {
     "slide_type": "subslide"
    }
   },
   "outputs": [
    {
     "data": {
      "text/plain": [
       "1.0"
      ]
     },
     "execution_count": 8,
     "metadata": {},
     "output_type": "execute_result"
    }
   ],
   "source": [
    "euclidean_distance_n_dimensions((0,0,1,0,1), (1,1,0,0,1))"
   ]
  },
  {
   "cell_type": "code",
   "execution_count": 6,
   "metadata": {
    "collapsed": true,
    "slideshow": {
     "slide_type": "subslide"
    }
   },
   "outputs": [
    {
     "data": {
      "text/plain": [
       "1.4142135623730951"
      ]
     },
     "execution_count": 6,
     "metadata": {},
     "output_type": "execute_result"
    }
   ],
   "source": [
    "A = (1, 0)\n",
    "B = (0, 1)\n",
    "euclidean_distance_n_dimensions(A, B)"
   ]
  },
  {
   "cell_type": "code",
   "execution_count": 9,
   "metadata": {
    "collapsed": true,
    "slideshow": {
     "slide_type": "slide"
    }
   },
   "outputs": [],
   "source": [
    "print?"
   ]
  },
  {
   "cell_type": "code",
   "execution_count": null,
   "metadata": {
    "collapsed": true
   },
   "outputs": [],
   "source": []
  },
  {
   "cell_type": "code",
   "execution_count": null,
   "metadata": {
    "collapsed": true
   },
   "outputs": [],
   "source": []
  },
  {
   "cell_type": "code",
   "execution_count": 10,
   "metadata": {
    "collapsed": true,
    "slideshow": {
     "slide_type": "slide"
    }
   },
   "outputs": [
    {
     "data": {
      "text/latex": [
       "$$F(k) = \\int_{-\\infty}^{\\infty} f(x) e^{2\\pi i k} dx$$"
      ],
      "text/plain": [
       "<IPython.core.display.Math object>"
      ]
     },
     "metadata": {},
     "output_type": "display_data"
    }
   ],
   "source": [
    "from IPython.display import display, Math, Latex\n",
    "\n",
    "display(Math(r'F(k) = \\int_{-\\infty}^{\\infty} f(x) e^{2\\pi i k} dx'))"
   ]
  },
  {
   "cell_type": "code",
   "execution_count": 13,
   "metadata": {
    "collapsed": true,
    "slideshow": {
     "slide_type": "subslide"
    }
   },
   "outputs": [
    {
     "data": {
      "text/latex": [
       "\n",
       "$$c = \\sqrt{a^2 + b^2}$$"
      ],
      "text/plain": [
       "<IPython.core.display.Latex object>"
      ]
     },
     "metadata": {},
     "output_type": "display_data"
    }
   ],
   "source": [
    "%%latex\n",
    "\n",
    "$$c = \\sqrt{a^2 + b^2}$$"
   ]
  },
  {
   "cell_type": "code",
   "execution_count": 15,
   "metadata": {
    "collapsed": true,
    "slideshow": {
     "slide_type": "slide"
    }
   },
   "outputs": [
    {
     "name": "stdout",
     "output_type": "stream",
     "text": [
      "4.62 µs ± 20.5 ns per loop (mean ± std. dev. of 7 runs, 100000 loops each)\n"
     ]
    }
   ],
   "source": [
    "%%timeit\n",
    "euclidean_distance_n_dimensions((0,0,1,0,1), (1,1,0,0,1))"
   ]
  },
  {
   "cell_type": "code",
   "execution_count": 26,
   "metadata": {
    "collapsed": true,
    "slideshow": {
     "slide_type": "slide"
    }
   },
   "outputs": [
    {
     "data": {
      "image/png": "[encoded data removed]",
      "text/plain": [
       "<Figure size 432x288 with 1 Axes>"
      ]
     },
     "metadata": {},
     "output_type": "display_data"
    }
   ],
   "source": [
    "import random\n",
    "from matplotlib import pyplot as plt\n",
    "\n",
    "PARAM = 0.02\n",
    "\n",
    "x1 = [x*PARAM for x in range(0,628)]\n",
    "y1 = [math.sin(x*PARAM)+random.gauss(0, 0.1) for x in range(0,628)]\n",
    "plt.plot(x1, y1)\n",
    "\n",
    "x2 = [x*0.5 for x in range(0,round(63/5))]\n",
    "y2 = [math.cos(x*0.5) for x in range(0,round(63/5))]\n",
    "plt.plot(x2, y2, 'o-')\n",
    "\n",
    "plt.show()"
   ]
  },
  {
   "cell_type": "code",
   "execution_count": 27,
   "metadata": {
    "collapsed": true,
    "slideshow": {
     "slide_type": "slide"
    }
   },
   "outputs": [
    {
     "name": "stdout",
     "output_type": "stream",
     "text": [
      " Wolumin w stacji C nie ma etykiety.\n",
      " Numer seryjny woluminu: E04E-0448\n",
      "\n",
      " Katalog: C:\\Python\\machine-learning\\solution\n",
      "\n",
      "2018-07-08  10:58    <DIR>          .\n",
      "2018-07-08  10:58    <DIR>          ..\n",
      "2018-07-08  10:44    <DIR>          .ipynb_checkpoints\n",
      "2018-07-08  10:58             3�726 first.ipynb\n",
      "2018-06-22  12:51             1�249 ml-classifiers-own.py\n",
      "2018-04-08  22:09             1�475 ml-classifiers-threading.py\n",
      "2018-04-08  22:09             2�206 ml-cluster-iris.py\n",
      "2018-06-22  13:52               221 ml-gender.csv\n",
      "2018-06-22  13:55               878 ml-gender.py\n",
      "2018-04-08  22:09             3�639 ml-linear-regression.py\n",
      "2018-04-08  22:09               948 ml-pca-iris.py\n",
      "2018-04-08  22:09             1�080 ml-pca-pima.py\n",
      "2018-04-08  22:09             1�137 ml-pima-diabetes-validation.py\n",
      "2018-04-08  22:09             2�629 ml-pima-diabetes.py\n",
      "              11 plik(�w)             19�188 bajt�w\n",
      "               3 katalog(�w)  24�967�307�264 bajt�w wolnych\n"
     ]
    }
   ],
   "source": [
    "!dir"
   ]
  },
  {
   "cell_type": "code",
   "execution_count": 33,
   "metadata": {
    "collapsed": true,
    "slideshow": {
     "slide_type": "subslide"
    }
   },
   "outputs": [
    {
     "name": "stdout",
     "output_type": "stream",
     "text": [
      "2018-06-22  12:51             1�249 ml-classifiers-own.py\n",
      "2018-04-08  22:09             1�475 ml-classifiers-threading.py\n",
      "2018-04-08  22:09             2�206 ml-cluster-iris.py\n",
      "2018-06-22  13:52               221 ml-gender.csv\n",
      "2018-06-22  13:55               878 ml-gender.py\n",
      "2018-04-08  22:09             3�639 ml-linear-regression.py\n",
      "2018-04-08  22:09               948 ml-pca-iris.py\n",
      "2018-04-08  22:09             1�080 ml-pca-pima.py\n",
      "2018-04-08  22:09             1�137 ml-pima-diabetes-validation.py\n",
      "2018-04-08  22:09             2�629 ml-pima-diabetes.py\n"
     ]
    }
   ],
   "source": [
    "dirs = !dir\n",
    "\n",
    "for file in dirs:\n",
    "    if file.find(\"ml-\") >= 0:\n",
    "        print(file)"
   ]
  },
  {
   "cell_type": "code",
   "execution_count": 34,
   "metadata": {},
   "outputs": [
    {
     "data": {
      "application/vnd.plotly.v1+json": {
       "data": [
        {
         "type": "scatter",
         "x": [
          1,
          2,
          3,
          4
         ],
         "y": [
          4,
          3,
          2,
          1
         ]
        }
       ],
       "layout": {
        "title": "hello world"
       }
      }
     },
     "metadata": {},
     "output_type": "display_data"
    }
   ],
   "source": [
    "import plotly.offline as py\n",
    "import plotly.graph_objs as go\n",
    "\n",
    "\n",
    "x = [1, 2, 3, 4]\n",
    "y = [4, 3, 2, 1]\n",
    "\n",
    "\n",
    "# For in script chart rendering\n",
    "py.plot({\n",
    "    \"data\": [go.Scatter(x=x, y=y)],\n",
    "    \"layout\": go.Layout(title=\"hello world\")\n",
    "})\n",
    "\n",
    "# If you want to use Plotly with Jupyter\n",
    "# Note the ``i`` before ``plot``\n",
    "py.iplot({\n",
    "    \"data\": [go.Scatter(x=x, y=y)],\n",
    "    \"layout\": go.Layout(title=\"hello world\")\n",
    "})"
   ]
  },
  {
   "cell_type": "code",
   "execution_count": 37,
   "metadata": {},
   "outputs": [
    {
     "data": {
      "application/vnd.plotly.v1+json": {
       "data": [
        {
         "type": "box",
         "y": [
          -2.548517931971846,
          -0.9161848709890805,
          -0.44693075530623083,
          -0.09944933572018022,
          0.08425121374069744,
          -0.3276202407569898,
          -1.2841670777495529,
          -1.749205685870074,
          -1.5759093777808295,
          -0.17867477205002802,
          -1.6796263261739233,
          -2.0704044450986343,
          -1.1736154137760055,
          0.10176410394383639,
          1.3199323540932024,
          0.24570544708290432,
          -2.029611528093226,
          -2.1348908173417027,
          -1.3357268929083845,
          0.6096648973350496,
          -2.229006368780019,
          -0.34313689334740105,
          -1.344217792838668,
          -1.2771875968643522,
          0.2712726518694788,
          -3.065025804076893,
          -1.4007490264225266,
          -0.38535960361248156,
          -3.355503862103203,
          -0.46746222771893275,
          -0.20888370241324328,
          -0.8577984554288098,
          -1.4426628925835616,
          -2.908209463144045,
          -0.6952815416803728,
          0.6729586812413761,
          -2.0081231500251864,
          -1.5915756045548668,
          -1.1035854520487829,
          -0.7998745235793674,
          -1.9259842496971076,
          0.8512489062470598,
          -1.4343066252752241,
          -1.574110515859335,
          -1.1493055474455762,
          -3.4124024178806733,
          -2.1925925371320814,
          -0.4320269087336469,
          0.18305697711499191,
          -0.6220149475335304
         ]
        },
        {
         "type": "box",
         "y": [
          0.9454026268047883,
          1.1641871686797696,
          0.7629632103467819,
          0.1777209628598545,
          2.963993143969053,
          1.9853128360786496,
          1.630862370049558,
          0.10229598618013336,
          1.02454335011714,
          2.351219762240806,
          0.2699715676212172,
          -0.8170942706924833,
          0.5423783077810473,
          -0.16250100440443593,
          1.0658465311676497,
          0.4726218075233789,
          2.4263324429300526,
          1.7966777484678853,
          0.9160663335631944,
          0.8421537270411815,
          -1.8563543994717073,
          1.0320367259093242,
          0.21419232525928378,
          1.189656082270271,
          0.12383681021885196,
          1.1252988637036812,
          0.3405553677309968,
          0.8901178849330406,
          -0.6580606948320613,
          0.407540029838931,
          2.517132270855322,
          1.5603929851367866,
          2.529598276635694,
          1.3835677906665493,
          0.2859492865097001,
          -0.7757481241987902,
          -0.16506417624634206,
          1.550576515623674,
          0.505607602605445,
          0.8281809254013032,
          0.9790451547911765,
          -0.027944185140043265,
          1.5220049149277095,
          0.31030121865933424,
          3.758795702785874,
          -1.2760375644657307,
          1.6044725548776715,
          1.6460543299452466,
          1.0209465180280033,
          2.060458963468048
         ]
        }
       ],
       "layout": {}
      }
     },
     "metadata": {},
     "output_type": "display_data"
    }
   ],
   "source": [
    "import plotly.offline as py\n",
    "import plotly.graph_objs as go\n",
    "import numpy as np\n",
    "\n",
    "y0 = np.random.randn(50) - 1\n",
    "y1 = np.random.randn(50) + 1\n",
    "\n",
    "py.iplot([\n",
    "    go.Box(y=y0),\n",
    "    go.Box(y=y1),\n",
    "])"
   ]
  },
  {
   "cell_type": "code",
   "execution_count": 38,
   "metadata": {},
   "outputs": [
    {
     "data": {
      "image/png": "[encoded data removed]",
      "text/plain": [
       "<Figure size 432x288 with 1 Axes>"
      ]
     },
     "metadata": {},
     "output_type": "display_data"
    }
   ],
   "source": [
    "import matplotlib.pyplot as plt\n",
    "\n",
    "\n",
    "x = [1, 2, 3, 4]\n",
    "y = [1, 2, 3, 4]\n",
    "plt.plot(x, y, 'o')\n",
    "plt.show()"
   ]
  },
  {
   "cell_type": "code",
   "execution_count": 39,
   "metadata": {},
   "outputs": [
    {
     "data": {
      "image/png": "[encoded data removed]",
      "text/plain": [
       "<Figure size 432x288 with 1 Axes>"
      ]
     },
     "metadata": {},
     "output_type": "display_data"
    }
   ],
   "source": [
    "import numpy as np\n",
    "import matplotlib.pyplot as plt\n",
    "\n",
    "\n",
    "# evenly sampled time at 200ms intervals\n",
    "t = np.arange(0., 5., 0.2)\n",
    "\n",
    "# red dashes, blue squares and green triangles\n",
    "plt.plot(t, t, 'r--', t, t**2, 'bs', t, t**3, 'g^')\n",
    "plt.show()"
   ]
  },
  {
   "cell_type": "code",
   "execution_count": 40,
   "metadata": {},
   "outputs": [
    {
     "data": {
      "image/png": "[encoded data removed]",
      "text/plain": [
       "<Figure size 432x288 with 2 Axes>"
      ]
     },
     "metadata": {},
     "output_type": "display_data"
    }
   ],
   "source": [
    "import numpy as np\n",
    "import matplotlib.pyplot as plt\n",
    "\n",
    "\n",
    "x1 = np.linspace(0.0, 5.0)\n",
    "x2 = np.linspace(0.0, 2.0)\n",
    "\n",
    "y1 = np.cos(2 * np.pi * x1) * np.exp(-x1)\n",
    "y2 = np.cos(2 * np.pi * x2)\n",
    "\n",
    "plt.subplot(2, 1, 1)\n",
    "plt.plot(x1, y1, 'o-')\n",
    "plt.title('A tale of 2 subplots')\n",
    "plt.ylabel('Damped oscillation')\n",
    "\n",
    "plt.subplot(2, 1, 2)\n",
    "plt.plot(x2, y2, '.-')\n",
    "plt.xlabel('time (s)')\n",
    "plt.ylabel('Undamped')\n",
    "\n",
    "plt.show()"
   ]
  },
  {
   "cell_type": "code",
   "execution_count": 41,
   "metadata": {},
   "outputs": [
    {
     "data": {
      "image/png": "[encoded data removed]",
      "text/plain": [
       "<Figure size 432x288 with 1 Axes>"
      ]
     },
     "metadata": {},
     "output_type": "display_data"
    }
   ],
   "source": [
    "import numpy as np\n",
    "import matplotlib.pyplot as plt\n",
    "\n",
    "\n",
    "# Make some fake data.\n",
    "a = b = np.arange(0, 3, .02)\n",
    "c = np.exp(a)\n",
    "d = c[::-1]\n",
    "\n",
    "# Create plots with pre-defined labels.\n",
    "fig, ax = plt.subplots()\n",
    "ax.plot(a, c, 'k--', label='Model length')\n",
    "ax.plot(a, d, 'k:', label='Data length')\n",
    "ax.plot(a, c + d, 'k', label='Total message length')\n",
    "\n",
    "legend = ax.legend(loc='upper center', shadow=True, fontsize='x-large')\n",
    "\n",
    "# Put a nicer background color on the legend.\n",
    "legend.get_frame().set_facecolor('#00FFCC')\n",
    "\n",
    "plt.show()"
   ]
  },
  {
   "cell_type": "code",
   "execution_count": null,
   "metadata": {},
   "outputs": [],
   "source": []
  }
 ],
 "metadata": {
  "celltoolbar": "Slideshow",
  "kernelspec": {
   "display_name": "Python 3",
   "language": "python",
   "name": "python3"
  },
  "language_info": {
   "codemirror_mode": {
    "name": "ipython",
    "version": 3
   },
   "file_extension": ".py",
   "mimetype": "text/x-python",
   "name": "python",
   "nbconvert_exporter": "python",
   "pygments_lexer": "ipython3",
   "version": "3.6.5"
  }
 },
 "nbformat": 4,
 "nbformat_minor": 1
}
